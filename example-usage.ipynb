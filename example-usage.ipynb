{
 "cells": [
  {
   "cell_type": "markdown",
   "id": "de244f58-b7f7-4f5f-a600-ef1ac3a7c16b",
   "metadata": {},
   "source": [
    "## Example Usage of Threshold Based Feature Selection"
   ]
  },
  {
   "cell_type": "code",
   "execution_count": 1,
   "id": "c8d5f56f-3ef7-4e8e-9d89-cb9472d8d486",
   "metadata": {},
   "outputs": [],
   "source": [
    "from tbfs.ranker import TBFSRanker, metrics\n",
    "import pandas as pd\n",
    "import numpy as np\n",
    "import logging\n",
    "from datetime import datetime\n",
    "\n",
    "version = datetime.utcnow().strftime(\"%Y_%m_%dt%H_%M_%S\")\n",
    "log_file = f\"tbfs.{version}.log\"\n",
    "logging.basicConfig(filename=log_file, level=logging.DEBUG)"
   ]
  },
  {
   "cell_type": "code",
   "execution_count": 2,
   "id": "0f19908b-b292-4190-a4ee-23360e261627",
   "metadata": {},
   "outputs": [],
   "source": [
    "# load data\n",
    "df = pd.read_csv('sample-data.csv')\n",
    "\n",
    "# separate features/labels\n",
    "y, x = df['class'], df.drop(columns=['class'])\n",
    "\n",
    "# convert class label to numeric value\n",
    "y = np.where(y == 'ACL', 1, 0)"
   ]
  },
  {
   "cell_type": "code",
   "execution_count": 3,
   "id": "0d0886e9-21fe-429b-a4fa-3c8c22c8327c",
   "metadata": {},
   "outputs": [],
   "source": [
    "# create instance of TBFS Ranker\n",
    "t_delta = 0.01\n",
    "tbfs = TBFSRanker(t_delta)\n",
    "\n",
    "# fit the ranker to our data set\n",
    "rankings = tbfs.fit(x, y)\n",
    "\n",
    "# save the results for future experiments\n",
    "tbfs.to_csv('tbfs-results.csv')"
   ]
  },
  {
   "cell_type": "code",
   "execution_count": 4,
   "id": "3beb1bcf-f7b4-4809-b48a-b8107e65dc3d",
   "metadata": {},
   "outputs": [
    {
     "data": {
      "text/plain": [
       "['f-score',\n",
       " 'odds-ratio',\n",
       " 'statistical-power',\n",
       " 'probability-ratio',\n",
       " 'gini-index',\n",
       " 'kolmogorov-smirnov',\n",
       " 'geometric-mean',\n",
       " 'auc',\n",
       " 'auprc',\n",
       " 'mutual-info',\n",
       " 'deviance',\n",
       " 'matthews-correlation-coefficient']"
      ]
     },
     "execution_count": 4,
     "metadata": {},
     "output_type": "execute_result"
    }
   ],
   "source": [
    "# view available metrics\n",
    "metrics"
   ]
  },
  {
   "cell_type": "code",
   "execution_count": 5,
   "id": "0480b4ba-a293-4054-b8aa-c6cc053e6e22",
   "metadata": {},
   "outputs": [
    {
     "data": {
      "text/plain": [
       "['GENE1609X',\n",
       " 'GENE1537X',\n",
       " 'GENE493X',\n",
       " 'GENE1616X',\n",
       " 'GENE3945X',\n",
       " 'GENE3258X',\n",
       " 'GENE3946X',\n",
       " 'GENE384X',\n",
       " 'GENE1296X',\n",
       " 'GENE1620X']"
      ]
     },
     "execution_count": 5,
     "metadata": {},
     "output_type": "execute_result"
    }
   ],
   "source": [
    "# take top K features for a metric\n",
    "tbfs.top_k_features_by_metric('f-score', 10)"
   ]
  },
  {
   "cell_type": "code",
   "execution_count": 6,
   "id": "39cdfd82-8a44-4825-89fd-b71012f11705",
   "metadata": {},
   "outputs": [
    {
     "data": {
      "text/plain": [
       "['GENE1609X',\n",
       " 'GENE1537X',\n",
       " 'GENE493X',\n",
       " 'GENE1616X',\n",
       " 'GENE3945X',\n",
       " 'GENE3258X',\n",
       " 'GENE3946X',\n",
       " 'GENE384X',\n",
       " 'GENE1296X',\n",
       " 'GENE1620X']"
      ]
     },
     "execution_count": 6,
     "metadata": {},
     "output_type": "execute_result"
    }
   ],
   "source": [
    "# load previous results and re-use\n",
    "tbfs2 = TBFSRanker()\n",
    "tbfs2.from_csv('tbfs-results.csv')\n",
    "\n",
    "tbfs2.top_k_features_by_metric('f-score', 10)"
   ]
  },
  {
   "cell_type": "code",
   "execution_count": null,
   "id": "630854f6-dae6-4209-8d65-d0deb8ec8c37",
   "metadata": {},
   "outputs": [],
   "source": []
  }
 ],
 "metadata": {
  "kernelspec": {
   "display_name": "Python 3 (ipykernel)",
   "language": "python",
   "name": "python3"
  },
  "language_info": {
   "codemirror_mode": {
    "name": "ipython",
    "version": 3
   },
   "file_extension": ".py",
   "mimetype": "text/x-python",
   "name": "python",
   "nbconvert_exporter": "python",
   "pygments_lexer": "ipython3",
   "version": "3.9.6"
  }
 },
 "nbformat": 4,
 "nbformat_minor": 5
}
