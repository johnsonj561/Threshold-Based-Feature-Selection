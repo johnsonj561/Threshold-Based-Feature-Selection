{
 "cells": [
  {
   "cell_type": "code",
   "execution_count": 12,
   "id": "26a7e09b-b58a-45d8-9fc0-6be102ea2736",
   "metadata": {},
   "outputs": [],
   "source": [
    "import pandas as pd\n",
    "import numpy as np\n",
    "import dask\n",
    "from sklearn.preprocessing import MinMaxScaler\n",
    "\n",
    "import data"
   ]
  },
  {
   "cell_type": "code",
   "execution_count": 13,
   "id": "ae3a0bd5-cb6d-49a7-aaa2-8aa7a0596a28",
   "metadata": {},
   "outputs": [],
   "source": [
    "inputfile = '/Users/JuJohnson/git/CMS-2019-Preprocessing/data/partb/medicare-partb-aggregated-2013-2019.csv.gz'"
   ]
  },
  {
   "cell_type": "code",
   "execution_count": 14,
   "id": "5d6844f0-d99a-48b4-add5-89b426bef9f4",
   "metadata": {},
   "outputs": [
    {
     "data": {
      "text/plain": [
       "(1000000, 134)"
      ]
     },
     "execution_count": 14,
     "metadata": {},
     "output_type": "execute_result"
    }
   ],
   "source": [
    "usecols = data.get_columns(inputfile)\n",
    "df = pd.read_csv(inputfile, usecols=usecols, nrows=1_000_000)\n",
    "onehot_cols = data.get_onehot_columns(inputfile)\n",
    "df = pd.get_dummies(df, columns=onehot_cols)\n",
    "y, x = df[\"exclusion\"], df.drop(columns=[\"exclusion\"])\n",
    "\n",
    "columns = x.columns\n",
    "scaler = MinMaxScaler(feature_range=(0, 1))\n",
    "x = scaler.fit_transform(x)\n",
    "x = pd.DataFrame(x, columns=columns)\n",
    "x.shape"
   ]
  },
  {
   "cell_type": "code",
   "execution_count": 20,
   "id": "fd2f6ce4-5a4d-47af-af5c-6850f54597a3",
   "metadata": {},
   "outputs": [],
   "source": [
    "from tbfs.multiprocess.ranker import TBFSRanker"
   ]
  },
  {
   "cell_type": "code",
   "execution_count": 15,
   "id": "4ba8bce8-4832-42de-996d-c9405bee602b",
   "metadata": {},
   "outputs": [
    {
     "name": "stdout",
     "output_type": "stream",
     "text": [
      "100\n"
     ]
    }
   ],
   "source": [
    "thresholds = [\n",
    "  *np.arange(0, 0.01, 0.0001),\n",
    "]\n",
    "\n",
    "print(len(thresholds))"
   ]
  },
  {
   "cell_type": "code",
   "execution_count": 21,
   "id": "21aec410-c3de-4efb-956e-602317fe5343",
   "metadata": {},
   "outputs": [
    {
     "name": "stdout",
     "output_type": "stream",
     "text": [
      "CPU times: user 27.3 s, sys: 4.02 s, total: 31.3 s\n",
      "Wall time: 28min 43s\n"
     ]
    }
   ],
   "source": [
    "%%time\n",
    "\n",
    "ranker = TBFSRanker(thresholds=thresholds, n_jobs=10)\n",
    "ranker.fit(x, y)\n",
    "top_5_v1 = ranker.top_k_features_by_metric(10, 'auc')"
   ]
  },
  {
   "cell_type": "code",
   "execution_count": 16,
   "id": "8e2b097c-a5f1-47d4-8a42-0e537902ebdd",
   "metadata": {},
   "outputs": [],
   "source": [
    "from tbfs.ranker import TBFSRanker"
   ]
  },
  {
   "cell_type": "code",
   "execution_count": 17,
   "id": "b564e171-a89f-4c38-92ed-2e3319068bc3",
   "metadata": {},
   "outputs": [
    {
     "name": "stdout",
     "output_type": "stream",
     "text": [
      "CPU times: user 21min 58s, sys: 3min 52s, total: 25min 50s\n",
      "Wall time: 25min 53s\n"
     ]
    }
   ],
   "source": [
    "%%time\n",
    "\n",
    "ranker = TBFSRanker(thresholds=thresholds)\n",
    "ranker.fit(x, y)\n",
    "top_5_v2 = ranker.top_k_features_by_metric(10, 'auc')"
   ]
  },
  {
   "cell_type": "code",
   "execution_count": null,
   "id": "bb97356c-6d30-4467-af14-1d87cd1bf5ec",
   "metadata": {},
   "outputs": [],
   "source": []
  }
 ],
 "metadata": {
  "kernelspec": {
   "display_name": "Python 3 (ipykernel)",
   "language": "python",
   "name": "python3"
  },
  "language_info": {
   "codemirror_mode": {
    "name": "ipython",
    "version": 3
   },
   "file_extension": ".py",
   "mimetype": "text/x-python",
   "name": "python",
   "nbconvert_exporter": "python",
   "pygments_lexer": "ipython3",
   "version": "3.7.11"
  }
 },
 "nbformat": 4,
 "nbformat_minor": 5
}
